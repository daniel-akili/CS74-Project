{
 "cells": [
  {
   "cell_type": "code",
   "execution_count": 12,
   "metadata": {},
   "outputs": [],
   "source": [
    "import pandas as pd\n",
    "import numpy as np\n",
    "pd.options.mode.chained_assignment = None"
   ]
  },
  {
   "cell_type": "code",
   "execution_count": 13,
   "metadata": {},
   "outputs": [],
   "source": [
    "training = pd.read_json('Grocery_and_Gourmet_Food_Reviews_training.json', lines=True)"
   ]
  },
  {
   "cell_type": "code",
   "execution_count": 14,
   "metadata": {},
   "outputs": [],
   "source": [
    "lessRelevant = training[['overall', 'verified', 'unixReviewTime', 'image']]"
   ]
  },
  {
   "cell_type": "code",
   "execution_count": 15,
   "metadata": {},
   "outputs": [],
   "source": [
    "lessRelevant['image'].fillna(0, inplace=True)\n",
    "lessRelevant.loc[(lessRelevant.image != 0),'image']=1\n",
    "\n",
    "lessRelevant.loc[(lessRelevant.verified == True),'verified']=1\n",
    "lessRelevant.loc[(lessRelevant.verified == False),'verified']=0\n",
    "\n",
    "lessRelevant.dropna();"
   ]
  },
  {
   "cell_type": "code",
   "execution_count": 16,
   "metadata": {
    "scrolled": true
   },
   "outputs": [],
   "source": [
    "lessRelevantRatings = lessRelevant['overall']\n",
    "del lessRelevant['overall']"
   ]
  },
  {
   "cell_type": "code",
   "execution_count": 17,
   "metadata": {},
   "outputs": [],
   "source": [
    "# lessRelevant contains only the less relevant columns. \n",
    "# In the case of the image column, having an image has been converted to one and not having an image to 0\n",
    "# In the case of the verified column, true has been converted to 1 and false to 0\n",
    "# Any rows with NaN values after these conversions were dropped\n",
    "# lessRelevantRatings contains the scores of each review in the same order as lessRelevant"
   ]
  }
 ],
 "metadata": {
  "kernelspec": {
   "display_name": "Python 3",
   "language": "python",
   "name": "python3"
  },
  "language_info": {
   "codemirror_mode": {
    "name": "ipython",
    "version": 3
   },
   "file_extension": ".py",
   "mimetype": "text/x-python",
   "name": "python",
   "nbconvert_exporter": "python",
   "pygments_lexer": "ipython3",
   "version": "3.7.3"
  }
 },
 "nbformat": 4,
 "nbformat_minor": 4
}
