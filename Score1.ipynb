{
 "cells": [
  {
   "cell_type": "code",
   "execution_count": 54,
   "metadata": {},
   "outputs": [],
   "source": [
    "import pandas as pd\n",
    "import numpy as np\n",
    "pd.options.mode.chained_assignment = None"
   ]
  },
  {
   "cell_type": "code",
   "execution_count": 51,
   "metadata": {},
   "outputs": [],
   "source": [
    "training = pd.read_json('Grocery_and_Gourmet_Food_Reviews_training.json', lines=True)"
   ]
  },
  {
   "cell_type": "code",
   "execution_count": 59,
   "metadata": {},
   "outputs": [],
   "source": [
    "lessRelevant = training[['overall', 'verified', 'unixReviewTime', 'image']]"
   ]
  },
  {
   "cell_type": "code",
   "execution_count": 60,
   "metadata": {},
   "outputs": [],
   "source": [
    "lessRelevant['image'].fillna(0, inplace=True)\n",
    "lessRelevant.loc[(lessRelevant.image != 0),'image']=1\n",
    "\n",
    "lessRelevant.loc[(lessRelevant.verified == True),'verified']=1\n",
    "lessRelevant.loc[(lessRelevant.verified == False),'verified']=0\n",
    "\n",
    "lessRelevant.dropna();\n",
    "\n",
    "lessRelevantRatings = lessRelevant['overall']"
   ]
  },
  {
   "cell_type": "code",
   "execution_count": 62,
   "metadata": {
    "scrolled": true
   },
   "outputs": [
    {
     "name": "stdout",
     "output_type": "stream",
     "text": [
      "        overall verified  unixReviewTime image\n",
      "0             5        1      1377993600     0\n",
      "1             4        1      1474243200     0\n",
      "2             5        1      1470787200     0\n",
      "3             5        1      1469318400     0\n",
      "4             5        1      1466208000     0\n",
      "...         ...      ...             ...   ...\n",
      "921777        5        1      1455148800     0\n",
      "921778        4        1      1445644800     0\n",
      "921779        2        1      1377302400     0\n",
      "921780        3        1      1498176000     0\n",
      "921781        1        1      1489708800     0\n",
      "\n",
      "[921782 rows x 4 columns]\n"
     ]
    }
   ],
   "source": [
    "print(lessRelevant)"
   ]
  },
  {
   "cell_type": "code",
   "execution_count": 65,
   "metadata": {},
   "outputs": [],
   "source": [
    "lessRelevantRatings = lessRelevant['overall']"
   ]
  },
  {
   "cell_type": "code",
   "execution_count": 66,
   "metadata": {},
   "outputs": [],
   "source": [
    "del lessRelevant['overall']"
   ]
  },
  {
   "cell_type": "code",
   "execution_count": 45,
   "metadata": {},
   "outputs": [],
   "source": [
    "trainingRatings = pd.read_csv('Grocery_and_Gourmet_Food_Ratings_training.csv')"
   ]
  },
  {
   "cell_type": "code",
   "execution_count": 67,
   "metadata": {},
   "outputs": [
    {
     "name": "stdout",
     "output_type": "stream",
     "text": [
      "       verified  unixReviewTime image\n",
      "0             1      1377993600     0\n",
      "1             1      1474243200     0\n",
      "2             1      1470787200     0\n",
      "3             1      1469318400     0\n",
      "4             1      1466208000     0\n",
      "...         ...             ...   ...\n",
      "921777        1      1455148800     0\n",
      "921778        1      1445644800     0\n",
      "921779        1      1377302400     0\n",
      "921780        1      1498176000     0\n",
      "921781        1      1489708800     0\n",
      "\n",
      "[921782 rows x 3 columns]\n"
     ]
    }
   ],
   "source": [
    "print(lessRelevant)"
   ]
  },
  {
   "cell_type": "code",
   "execution_count": 47,
   "metadata": {},
   "outputs": [
    {
     "name": "stdout",
     "output_type": "stream",
     "text": [
      "        overall vote verified   reviewTime                        reviewerID  \\\n",
      "0             5    3        1   09 1, 2013  864CDDA4AB821FAE584B500E07C3162B   \n",
      "1             4  NaN        1  09 19, 2016  6EF79A6F15F45D7308497C834370353B   \n",
      "2             5  NaN        1  08 10, 2016  C49A4095E9F4E12A523DF6E683BEA910   \n",
      "3             5  NaN        1  07 24, 2016  693CF137F2E066950C8085910CAB58D9   \n",
      "4             5  NaN        1  06 18, 2016  6C2AF03EDCCC3A24E5BE64FB71DBFDAF   \n",
      "...         ...  ...      ...          ...                               ...   \n",
      "921777        5  NaN        1  02 11, 2016  A285B1C5CC898CB0EF6789C57A516DB3   \n",
      "921778        4  NaN        1  10 24, 2015  81F03BBF08A0CB13073AB9844DD63518   \n",
      "921779        2  NaN        1  08 24, 2013  75A9D1910D1AFA602D7EC7A96E258903   \n",
      "921780        3  NaN        1  06 23, 2017  DD09B1E5B4D822E6AA5F1B09C6D8014A   \n",
      "921781        1  NaN        1  03 17, 2017  8415B546D5EF721EB86AA2B91A5593C4   \n",
      "\n",
      "                                    asin                    style  \\\n",
      "0       E1D711940BE5AF68DD3DC9228935648F  {'Size:': ' Glass Jar'}   \n",
      "1       E1D711940BE5AF68DD3DC9228935648F  {'Size:': ' Glass Jar'}   \n",
      "2       E1D711940BE5AF68DD3DC9228935648F  {'Size:': ' Glass Jar'}   \n",
      "3       E1D711940BE5AF68DD3DC9228935648F  {'Size:': ' Glass Jar'}   \n",
      "4       E1D711940BE5AF68DD3DC9228935648F  {'Size:': ' Glass Jar'}   \n",
      "...                                  ...                      ...   \n",
      "921777  884A712104822ED3B25DB21CF666FA35                      NaN   \n",
      "921778  884A712104822ED3B25DB21CF666FA35                      NaN   \n",
      "921779  884A712104822ED3B25DB21CF666FA35                      NaN   \n",
      "921780  884A712104822ED3B25DB21CF666FA35                      NaN   \n",
      "921781  884A712104822ED3B25DB21CF666FA35                      NaN   \n",
      "\n",
      "                            reviewerName  \\\n",
      "0       EF72F856EEE32BB9A0FE053D59666E1C   \n",
      "1       BEC76C3F37B1F732D5E522C6716BECC9   \n",
      "2       5C5F26F196BD768125AFA3F427416399   \n",
      "3       ED400D0DF192E77A861142884DAF3677   \n",
      "4       C0C3627F32EF7C8BB056757316847A35   \n",
      "...                                  ...   \n",
      "921777  5EB59A1C45EC8D0EAFE705C45AA15CE1   \n",
      "921778  8EE7E225CE960095BC0AFC2F1C6226E5   \n",
      "921779  C8785FEF846CD3A2363394C42C7C696D   \n",
      "921780  73AFB89AEED755C16E59578D98FD8D0E   \n",
      "921781  05A22376F49899148058E3B710D2F30D   \n",
      "\n",
      "                                               reviewText  \\\n",
      "0       Can't wait to get cooking with these. I have h...   \n",
      "1                                  Large and good tasting   \n",
      "2                                               wonderful   \n",
      "3                                                Capers!!   \n",
      "4       These are good quality and cheaper by the use ...   \n",
      "...                                                   ...   \n",
      "921777                    Awesome gin or vodka and tonics   \n",
      "921778        Tasty, but I worry about the sugar content.   \n",
      "921779  Quinine bitterness not the least bit detectabl...   \n",
      "921780  i guess i'm so used to regular tonic, this did...   \n",
      "921781  Maybe this works when added to a drink, but I ...   \n",
      "\n",
      "                             summary  unixReviewTime image  \n",
      "0                         Great deal      1377993600     0  \n",
      "1                         Four Stars      1474243200     0  \n",
      "2                         Five Stars      1470787200     0  \n",
      "3                         Five Stars      1469318400     0  \n",
      "4                        Great value      1466208000     0  \n",
      "...                              ...             ...   ...  \n",
      "921777                          NICE      1455148800     0  \n",
      "921778                    Four Stars      1445644800     0  \n",
      "921779  a craft tonic disappointment      1377302400     0  \n",
      "921780                   so so tonic      1498176000     0  \n",
      "921781                      Blech!!!      1489708800     0  \n",
      "\n",
      "[921782 rows x 12 columns]\n"
     ]
    }
   ],
   "source": [
    "print(training)"
   ]
  },
  {
   "cell_type": "code",
   "execution_count": null,
   "metadata": {},
   "outputs": [],
   "source": []
  }
 ],
 "metadata": {
  "kernelspec": {
   "display_name": "Python 3",
   "language": "python",
   "name": "python3"
  },
  "language_info": {
   "codemirror_mode": {
    "name": "ipython",
    "version": 3
   },
   "file_extension": ".py",
   "mimetype": "text/x-python",
   "name": "python",
   "nbconvert_exporter": "python",
   "pygments_lexer": "ipython3",
   "version": "3.7.3"
  }
 },
 "nbformat": 4,
 "nbformat_minor": 4
}
